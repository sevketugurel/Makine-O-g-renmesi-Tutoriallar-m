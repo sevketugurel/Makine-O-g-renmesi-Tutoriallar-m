{
 "cells": [
  {
   "cell_type": "code",
   "execution_count": 8,
   "metadata": {},
   "outputs": [],
   "source": [
    "import pandas as pd\n",
    "import numpy as np\n",
    "from sklearn.preprocessing import StandardScaler\n",
    "from sklearn.svm import SVR\n",
    "import matplotlib.pyplot as plt"
   ]
  },
  {
   "cell_type": "code",
   "execution_count": 3,
   "metadata": {},
   "outputs": [
    {
     "name": "stdout",
     "output_type": "stream",
     "text": [
      "            Position  Level   Salary\n",
      "0   Business Analyst      1    45000\n",
      "1  Junior Consultant      2    50000\n",
      "2  Senior Consultant      3    60000\n",
      "3            Manager      4    80000\n",
      "4    Country Manager      5   110000\n",
      "5     Region Manager      6   150000\n",
      "6            Partner      7   200000\n",
      "7     Senior Partner      8   300000\n",
      "8            C-level      9   500000\n",
      "9                CEO     10  1000000\n"
     ]
    }
   ],
   "source": [
    "\n",
    "data = pd.read_csv(\"/Users/sevketugurel/Desktop/Salaries.csv\")\n",
    "veri = data.copy()\n",
    "print(veri)"
   ]
  },
  {
   "cell_type": "code",
   "execution_count": 4,
   "metadata": {},
   "outputs": [],
   "source": [
    "y = veri[\"Salary\"]\n",
    "x = veri[\"Level\"]\n",
    "y = np.array(y).reshape(-1,1) # -1,1 'in anlamı satır halinde gelmemsi için biz onu sütun hale çeviriyoruz\n",
    "x = np.array(x).reshape(-1,1)"
   ]
  },
  {
   "cell_type": "code",
   "execution_count": 6,
   "metadata": {},
   "outputs": [],
   "source": [
    "scx = StandardScaler()\n",
    "scy = StandardScaler()\n",
    "\n",
    "x = scx.fit_transform(x)\n",
    "y = scy.fit_transform(y)\n"
   ]
  },
  {
   "cell_type": "code",
   "execution_count": 18,
   "metadata": {},
   "outputs": [
    {
     "name": "stderr",
     "output_type": "stream",
     "text": [
      "/Users/sevketugurel/anaconda3/lib/python3.11/site-packages/sklearn/utils/validation.py:1184: DataConversionWarning: A column-vector y was passed when a 1d array was expected. Please change the shape of y to (n_samples, ), for example using ravel().\n",
      "  y = column_or_1d(y, warn=True)\n"
     ]
    },
    {
     "data": {
      "image/png": "[encoded data removed]",
      "text/plain": [
       "<Figure size 640x480 with 1 Axes>"
      ]
     },
     "metadata": {},
     "output_type": "display_data"
    }
   ],
   "source": [
    "#svrModel = SVR(kernel=\"linear\")\n",
    "#svrModel = SVR(kernel=\"poly\",degree=5)\n",
    "#svrModel = SVR(kernel=\"rbf\")\n",
    "svrModel = SVR()\n",
    "svrModel.fit(x,y)\n",
    "tahmin = svrModel.predict(x)\n",
    "\n",
    "plt.scatter(x,y,c=\"red\")\n",
    "plt.plot(x,tahmin)\n",
    "plt.show()"
   ]
  },
  {
   "cell_type": "code",
   "execution_count": null,
   "metadata": {},
   "outputs": [],
   "source": []
  }
 ],
 "metadata": {
  "kernelspec": {
   "display_name": "base",
   "language": "python",
   "name": "python3"
  },
  "language_info": {
   "codemirror_mode": {
    "name": "ipython",
    "version": 3
   },
   "file_extension": ".py",
   "mimetype": "text/x-python",
   "name": "python",
   "nbconvert_exporter": "python",
   "pygments_lexer": "ipython3",
   "version": "3.11.4 (main, Jul  5 2023, 08:54:11) [Clang 14.0.6 ]"
  },
  "orig_nbformat": 4,
  "vscode": {
   "interpreter": {
    "hash": "f3ca9ad0a2962a0791b1ae119e2a53edf92a1421efbd4eff8628fba08f6008bb"
   }
  }
 },
 "nbformat": 4,
 "nbformat_minor": 2
}
