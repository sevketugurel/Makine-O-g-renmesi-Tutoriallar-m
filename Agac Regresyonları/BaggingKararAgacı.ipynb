{
 "cells": [
  {
   "cell_type": "code",
   "execution_count": 10,
   "metadata": {},
   "outputs": [],
   "source": [
    "import pandas as pd\n",
    "from sklearn.model_selection import train_test_split,GridSearchCV\n",
    "from sklearn.tree import DecisionTreeRegressor\n",
    "import sklearn.metrics as mt\n",
    "from sklearn.ensemble import BaggingRegressor"
   ]
  },
  {
   "cell_type": "code",
   "execution_count": 2,
   "metadata": {},
   "outputs": [
    {
     "name": "stdout",
     "output_type": "stream",
     "text": [
      "        TV  Radio  Newspaper  Sales\n",
      "0    230.1   37.8       69.2   22.1\n",
      "1     44.5   39.3       45.1   10.4\n",
      "2     17.2   45.9       69.3   12.0\n",
      "3    151.5   41.3       58.5   16.5\n",
      "4    180.8   10.8       58.4   17.9\n",
      "..     ...    ...        ...    ...\n",
      "195   38.2    3.7       13.8    7.6\n",
      "196   94.2    4.9        8.1   14.0\n",
      "197  177.0    9.3        6.4   14.8\n",
      "198  283.6   42.0       66.2   25.5\n",
      "199  232.1    8.6        8.7   18.4\n",
      "\n",
      "[200 rows x 4 columns]\n"
     ]
    }
   ],
   "source": [
    "data = pd.read_csv(\"/Users/sevketugurel/Desktop/reklam.csv\")\n",
    "veri = data.copy()\n",
    "print(veri)"
   ]
  },
  {
   "cell_type": "code",
   "execution_count": 4,
   "metadata": {},
   "outputs": [
    {
     "name": "stdout",
     "output_type": "stream",
     "text": [
      "Karar Ağacı R2: 0.879284232600134  RMSE: 1.9313855130449744\n"
     ]
    }
   ],
   "source": [
    "y = veri[\"Sales\"]\n",
    "X = veri.drop(columns=\"Sales\",axis=1)\n",
    "\n",
    "X_train,X_test,y_train,y_test = train_test_split(X,y,test_size=0.2,random_state=42)\n",
    "\n",
    "dtModel = DecisionTreeRegressor(random_state=0)\n",
    "dtModel.fit(X_train,y_train)\n",
    "dtTahmin = dtModel.predict(X_test)\n",
    "\n",
    "r2 = mt.r2_score(y_test,dtTahmin)\n",
    "rmse = mt.mean_squared_error(y_test,dtTahmin,squared=False)\n",
    "\n",
    "print(\"Karar Ağacı R2: {}  RMSE: {}\".format(r2,rmse))\n"
   ]
  },
  {
   "cell_type": "code",
   "execution_count": 9,
   "metadata": {},
   "outputs": [
    {
     "name": "stdout",
     "output_type": "stream",
     "text": [
      "Bagging Ağacı R2: 0.9525490192905754  RMSE: 1.2109035882348353\n"
     ]
    }
   ],
   "source": [
    "bgModel = BaggingRegressor()\n",
    "bgModel.fit(X_train,y_train)\n",
    "bgTahmin = bgModel.predict(X_test)\n",
    "\n",
    "r2_2= mt.r2_score(y_test,bgTahmin)\n",
    "rmse_2= mt.mean_squared_error(y_test,bgTahmin,squared=False)\n",
    "\n",
    "print(\"Bagging Ağacı R2: {}  RMSE: {}\".format(r2_2,rmse_2))\n"
   ]
  },
  {
   "cell_type": "code",
   "execution_count": 12,
   "metadata": {},
   "outputs": [
    {
     "name": "stdout",
     "output_type": "stream",
     "text": [
      "{'max_leaf_nodes': 18, 'min_samples_split': 4}\n"
     ]
    }
   ],
   "source": [
    "parametreler1 = {\"min_samples_split\":range(2,30),\"max_leaf_nodes\":range(2,25)}\n",
    "grid1 = GridSearchCV(estimator=dtModel,param_grid=parametreler1,cv=10)\n",
    "grid1.fit(X_train,y_train)\n",
    "print(grid1.best_params_)"
   ]
  },
  {
   "cell_type": "code",
   "execution_count": 14,
   "metadata": {},
   "outputs": [
    {
     "name": "stdout",
     "output_type": "stream",
     "text": [
      "{'n_estimators': 27}\n"
     ]
    }
   ],
   "source": [
    "parametreler2 = {\"n_estimators\":range(2,30)}\n",
    "grid2 = GridSearchCV(estimator=bgModel,param_grid=parametreler2,cv=10)\n",
    "grid2.fit(X_train,y_train)\n",
    "print(grid2.best_params_)"
   ]
  },
  {
   "attachments": {},
   "cell_type": "markdown",
   "metadata": {},
   "source": [
    "### verilen değerleri hiperparametre olarak yerine yazalım"
   ]
  },
  {
   "cell_type": "code",
   "execution_count": 16,
   "metadata": {},
   "outputs": [
    {
     "name": "stdout",
     "output_type": "stream",
     "text": [
      "Karar Ağacı R2: 0.8944127560700043  RMSE: 1.8063117071549948\n"
     ]
    }
   ],
   "source": [
    "dtModel = DecisionTreeRegressor(random_state=0,max_leaf_nodes=18,min_samples_split=4)\n",
    "dtModel.fit(X_train,y_train)\n",
    "dtTahmin = dtModel.predict(X_test)\n",
    "\n",
    "r2 = mt.r2_score(y_test,dtTahmin)\n",
    "rmse = mt.mean_squared_error(y_test,dtTahmin,squared=False)\n",
    "\n",
    "print(\"Karar Ağacı R2: {}  RMSE: {}\".format(r2,rmse))\n"
   ]
  },
  {
   "cell_type": "code",
   "execution_count": 15,
   "metadata": {},
   "outputs": [
    {
     "name": "stdout",
     "output_type": "stream",
     "text": [
      "Bagging Ağacı R2: 0.9538506668775434  RMSE: 1.1941797007780457\n"
     ]
    }
   ],
   "source": [
    "bgModel = BaggingRegressor(n_estimators=27)\n",
    "bgModel.fit(X_train,y_train)\n",
    "bgTahmin = bgModel.predict(X_test)\n",
    "\n",
    "r2_2= mt.r2_score(y_test,bgTahmin)\n",
    "rmse_2= mt.mean_squared_error(y_test,bgTahmin,squared=False)\n",
    "\n",
    "print(\"Bagging Ağacı R2: {}  RMSE: {}\".format(r2_2,rmse_2))\n"
   ]
  },
  {
   "cell_type": "code",
   "execution_count": null,
   "metadata": {},
   "outputs": [],
   "source": []
  }
 ],
 "metadata": {
  "kernelspec": {
   "display_name": "base",
   "language": "python",
   "name": "python3"
  },
  "language_info": {
   "codemirror_mode": {
    "name": "ipython",
    "version": 3
   },
   "file_extension": ".py",
   "mimetype": "text/x-python",
   "name": "python",
   "nbconvert_exporter": "python",
   "pygments_lexer": "ipython3",
   "version": "3.11.4"
  },
  "orig_nbformat": 4,
  "vscode": {
   "interpreter": {
    "hash": "f3ca9ad0a2962a0791b1ae119e2a53edf92a1421efbd4eff8628fba08f6008bb"
   }
  }
 },
 "nbformat": 4,
 "nbformat_minor": 2
}
