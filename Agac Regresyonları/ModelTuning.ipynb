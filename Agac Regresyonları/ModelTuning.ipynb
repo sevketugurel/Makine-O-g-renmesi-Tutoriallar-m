{
 "cells": [
  {
   "cell_type": "code",
   "execution_count": 18,
   "metadata": {},
   "outputs": [],
   "source": [
    "import pandas as pd\n",
    "import ssl\n",
    "from sklearn.model_selection import train_test_split,GridSearchCV\n",
    "from sklearn.tree import DecisionTreeRegressor\n",
    "import sklearn.metrics as mt\n",
    "# SSL hatasını aşabilmek için\n",
    "ssl._create_default_https_context = ssl._create_unverified_context\n"
   ]
  },
  {
   "cell_type": "code",
   "execution_count": 19,
   "metadata": {},
   "outputs": [
    {
     "name": "stdout",
     "output_type": "stream",
     "text": [
      "     Temperature     Revenue\n",
      "0      24.566884  534.799028\n",
      "1      26.005191  625.190122\n",
      "2      27.790554  660.632289\n",
      "3      20.595335  487.706960\n",
      "4      11.503498  316.240194\n",
      "..           ...         ...\n",
      "495    22.274899  524.746364\n",
      "496    32.893092  755.818399\n",
      "497    12.588157  306.090719\n",
      "498    22.362402  566.217304\n",
      "499    28.957736  655.660388\n",
      "\n",
      "[500 rows x 2 columns]\n"
     ]
    }
   ],
   "source": [
    "data = pd.read_csv(\"https://raw.githubusercontent.com/mk-gurucharan/Regression/master/IceCreamData.csv\")\n",
    "veri = data.copy()\n",
    "print(veri)"
   ]
  },
  {
   "cell_type": "code",
   "execution_count": 20,
   "metadata": {},
   "outputs": [
    {
     "name": "stdout",
     "output_type": "stream",
     "text": [
      "R2: 0.9781967895258501   MSE: 818.291825510698\n"
     ]
    }
   ],
   "source": [
    "y = veri[\"Revenue\"]\n",
    "x = veri[\"Temperature\"]\n",
    "\n",
    "X_train,X_test,Y_train,Y_test = train_test_split(x,y,random_state=42,test_size=0.1)\n",
    "\n",
    "#model = DecisionTreeRegressor(random_state=0)\n",
    "model = DecisionTreeRegressor(random_state=0, max_leaf_nodes=20)\n",
    "model.fit(X_train.values.reshape(-1,1),Y_train.values.reshape(-1,1)) # array tanımlama hatasını almamak için values.resahpe yaptık\n",
    "Tahmin = model.predict(X_test.values.reshape(-1,1))\n",
    "r2 = mt.r2_score(Y_test,Tahmin)\n",
    "mse = mt.mean_squared_error(Y_test,Tahmin)\n",
    "print(\"R2: {}   MSE: {}\".format(r2,mse))\n",
    "\n"
   ]
  },
  {
   "cell_type": "code",
   "execution_count": 24,
   "metadata": {
    "vscode": {
     "languageId": "javascript"
    }
   },
   "outputs": [
    {
     "name": "stdout",
     "output_type": "stream",
     "text": [
      "{'max_leaf_nodes': 21, 'min_samples_split': 17}\n"
     ]
    }
   ],
   "source": [
    "parametreler = {\n",
    "    \"min_samples_split\":range(2,50),\n",
    "    \"max_leaf_nodes\":range(2,50)\n",
    "}\n",
    "grid = GridSearchCV(estimator=model,param_grid=parametreler,cv=10)\n",
    "grid.fit(X_train.values.reshape(-1,1),Y_train.values.reshape(-1,1))\n",
    "print(grid.best_params_)"
   ]
  },
  {
   "cell_type": "code",
   "execution_count": 22,
   "metadata": {},
   "outputs": [
    {
     "name": "stdout",
     "output_type": "stream",
     "text": [
      "R2: 0.9789043773351418   MSE: 791.7354924027405\n"
     ]
    }
   ],
   "source": [
    "model = DecisionTreeRegressor(random_state=0, max_leaf_nodes=21,min_samples_split=17)\n",
    "model.fit(X_train.values.reshape(-1,1),Y_train.values.reshape(-1,1)) # array tanımlama hatasını almamak için values.resahpe yaptık\n",
    "Tahmin = model.predict(X_test.values.reshape(-1,1))\n",
    "r2 = mt.r2_score(Y_test,Tahmin)\n",
    "mse = mt.mean_squared_error(Y_test,Tahmin)\n",
    "print(\"R2: {}   MSE: {}\".format(r2,mse))"
   ]
  },
  {
   "cell_type": "code",
   "execution_count": null,
   "metadata": {},
   "outputs": [],
   "source": []
  }
 ],
 "metadata": {
  "kernelspec": {
   "display_name": "Python 3",
   "language": "python",
   "name": "python3"
  },
  "language_info": {
   "codemirror_mode": {
    "name": "ipython",
    "version": 3
   },
   "file_extension": ".py",
   "mimetype": "text/x-python",
   "name": "python",
   "nbconvert_exporter": "python",
   "pygments_lexer": "ipython3",
   "version": "3.11.0"
  },
  "orig_nbformat": 4,
  "vscode": {
   "interpreter": {
    "hash": "aee8b7b246df8f9039afb4144a1f6fd8d2ca17a180786b69acc140d282b71a49"
   }
  }
 },
 "nbformat": 4,
 "nbformat_minor": 2
}
